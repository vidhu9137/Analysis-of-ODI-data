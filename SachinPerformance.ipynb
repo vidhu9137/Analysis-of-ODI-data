{
  "nbformat": 4,
  "nbformat_minor": 0,
  "metadata": {
    "colab": {
      "name": "SachinPerformance.ipynb",
      "provenance": [],
      "collapsed_sections": [],
      "authorship_tag": "ABX9TyPZH6LFCKxIeov+04QYdtbK",
      "include_colab_link": true
    },
    "kernelspec": {
      "name": "python3",
      "display_name": "Python 3"
    },
    "language_info": {
      "name": "python"
    }
  },
  "cells": [
    {
      "cell_type": "markdown",
      "metadata": {
        "id": "view-in-github",
        "colab_type": "text"
      },
      "source": [
        "<a href=\"https://colab.research.google.com/github/vidhu9137/Analysis-of-ODI-data/blob/main/SachinPerformance.ipynb\" target=\"_parent\"><img src=\"https://colab.research.google.com/assets/colab-badge.svg\" alt=\"Open In Colab\"/></a>"
      ]
    },
    {
      "cell_type": "code",
      "execution_count": null,
      "metadata": {
        "id": "2IltlXYER4Ig"
      },
      "outputs": [],
      "source": [
        "import pandas as pd\n",
        "from matplotlib import pyplot as plt\n",
        "import seaborn as sns"
      ]
    },
    {
      "cell_type": "code",
      "source": [
        "import warnings\n",
        "warnings.filterwarnings(\"ignore\")"
      ],
      "metadata": {
        "id": "v8rgsYIZBglq"
      },
      "execution_count": null,
      "outputs": []
    },
    {
      "cell_type": "code",
      "source": [
        "from google.colab import drive"
      ],
      "metadata": {
        "id": "IQRcNgsoTDLT"
      },
      "execution_count": null,
      "outputs": []
    },
    {
      "cell_type": "code",
      "source": [
        "drive.mount('/content/drive')"
      ],
      "metadata": {
        "colab": {
          "base_uri": "https://localhost:8080/"
        },
        "id": "-mwZROes2s1A",
        "outputId": "b18640e9-3db7-4414-e01e-34fa9f95080a"
      },
      "execution_count": null,
      "outputs": [
        {
          "output_type": "stream",
          "name": "stdout",
          "text": [
            "Mounted at /content/drive\n"
          ]
        }
      ]
    },
    {
      "cell_type": "code",
      "source": [
        "data = pd.read_csv('/content/drive/MyDrive/ODI_data.csv')\n",
        "df = data.copy()"
      ],
      "metadata": {
        "id": "J-TyKdBESIbG"
      },
      "execution_count": null,
      "outputs": []
    },
    {
      "cell_type": "code",
      "source": [
        "df"
      ],
      "metadata": {
        "colab": {
          "base_uri": "https://localhost:8080/",
          "height": 696
        },
        "id": "hK4jwzPnSheo",
        "outputId": "1c617b9b-9c8b-4be6-ac9a-b2fa92b32aa9"
      },
      "execution_count": null,
      "outputs": [
        {
          "output_type": "execute_result",
          "data": {
            "text/plain": [
              "       Innings Player Innings Runs Scored Innings Runs Scored Num  \\\n",
              "0             E Lewis                  65                      65   \n",
              "1            N Pooran                  42                      42   \n",
              "2          SO Hetmyer                  18                      18   \n",
              "3            RL Chase                  18                      18   \n",
              "4         SS Cottrell                  17                      17   \n",
              "...               ...                 ...                     ...   \n",
              "171963     IR Redpath                 NaN                     NaN   \n",
              "171964    IM Chappell                 NaN                     NaN   \n",
              "171965     KD Walters                 NaN                     NaN   \n",
              "171966       RW Marsh                 NaN                     NaN   \n",
              "171967    GS Chappell                 NaN                     NaN   \n",
              "\n",
              "       Innings Minutes Batted  Innings Batted Flag  Innings Not Out Flag  \\\n",
              "0                         128                  1.0                   0.0   \n",
              "1                          69                  1.0                   0.0   \n",
              "2                          31                  1.0                   0.0   \n",
              "3                          34                  1.0                   0.0   \n",
              "4                          23                  1.0                   0.0   \n",
              "...                       ...                  ...                   ...   \n",
              "171963                    NaN                  NaN                   NaN   \n",
              "171964                    NaN                  NaN                   NaN   \n",
              "171965                    NaN                  NaN                   NaN   \n",
              "171966                    NaN                  NaN                   NaN   \n",
              "171967                    NaN                  NaN                   NaN   \n",
              "\n",
              "       Innings Balls Faced Innings Boundary Fours Innings Boundary Sixes  \\\n",
              "0                       80                      8                      1   \n",
              "1                       52                      4                      1   \n",
              "2                       20                      2                      0   \n",
              "3                       23                      0                      0   \n",
              "4                       18                      2                      1   \n",
              "...                    ...                    ...                    ...   \n",
              "171963                 NaN                    NaN                    NaN   \n",
              "171964                 NaN                    NaN                    NaN   \n",
              "171965                 NaN                    NaN                    NaN   \n",
              "171966                 NaN                    NaN                    NaN   \n",
              "171967                 NaN                    NaN                    NaN   \n",
              "\n",
              "       Innings Batting Strike Rate  ... Innings Overs Bowled  \\\n",
              "0                            81.25  ...                  NaN   \n",
              "1                            80.76  ...                  NaN   \n",
              "2                               90  ...                  NaN   \n",
              "3                            78.26  ...                  NaN   \n",
              "4                            94.44  ...                  NaN   \n",
              "...                            ...  ...                  ...   \n",
              "171963                         NaN  ...                  DNB   \n",
              "171964                         NaN  ...                  DNB   \n",
              "171965                         NaN  ...                  DNB   \n",
              "171966                         NaN  ...                  DNB   \n",
              "171967                         NaN  ...                  DNB   \n",
              "\n",
              "       Innings Bowled Flag Innings Maidens Bowled Innings Runs Conceded  \\\n",
              "0                      NaN                    NaN                   NaN   \n",
              "1                      NaN                    NaN                   NaN   \n",
              "2                      NaN                    NaN                   NaN   \n",
              "3                      NaN                    NaN                   NaN   \n",
              "4                      NaN                    NaN                   NaN   \n",
              "...                    ...                    ...                   ...   \n",
              "171963                 0.0                      -                     -   \n",
              "171964                 0.0                      -                     -   \n",
              "171965                 0.0                      -                     -   \n",
              "171966                 0.0                      -                     -   \n",
              "171967                 0.0                      -                     -   \n",
              "\n",
              "       Innings Wickets Taken  4 Wickets  5 Wickets 10 Wickets  \\\n",
              "0                        NaN        NaN        NaN        NaN   \n",
              "1                        NaN        NaN        NaN        NaN   \n",
              "2                        NaN        NaN        NaN        NaN   \n",
              "3                        NaN        NaN        NaN        NaN   \n",
              "4                        NaN        NaN        NaN        NaN   \n",
              "...                      ...        ...        ...        ...   \n",
              "171963                     -        1.0        0.0        0.0   \n",
              "171964                     -        1.0        0.0        0.0   \n",
              "171965                     -        1.0        0.0        0.0   \n",
              "171966                     -        1.0        0.0        0.0   \n",
              "171967                     -        1.0        0.0        0.0   \n",
              "\n",
              "       Innings Wickets Taken Buckets  Innings Economy Rate  \n",
              "0                                NaN                   NaN  \n",
              "1                                NaN                   NaN  \n",
              "2                                NaN                   NaN  \n",
              "3                                NaN                   NaN  \n",
              "4                                NaN                   NaN  \n",
              "...                              ...                   ...  \n",
              "171963                             -                     -  \n",
              "171964                             -                     -  \n",
              "171965                             -                     -  \n",
              "171966                             -                     -  \n",
              "171967                             -                     -  \n",
              "\n",
              "[171968 rows x 28 columns]"
            ],
            "text/html": [
              "\n",
              "  <div id=\"df-45a1f4b8-5e29-485b-9843-ef3e369c69c5\">\n",
              "    <div class=\"colab-df-container\">\n",
              "      <div>\n",
              "<style scoped>\n",
              "    .dataframe tbody tr th:only-of-type {\n",
              "        vertical-align: middle;\n",
              "    }\n",
              "\n",
              "    .dataframe tbody tr th {\n",
              "        vertical-align: top;\n",
              "    }\n",
              "\n",
              "    .dataframe thead th {\n",
              "        text-align: right;\n",
              "    }\n",
              "</style>\n",
              "<table border=\"1\" class=\"dataframe\">\n",
              "  <thead>\n",
              "    <tr style=\"text-align: right;\">\n",
              "      <th></th>\n",
              "      <th>Innings Player</th>\n",
              "      <th>Innings Runs Scored</th>\n",
              "      <th>Innings Runs Scored Num</th>\n",
              "      <th>Innings Minutes Batted</th>\n",
              "      <th>Innings Batted Flag</th>\n",
              "      <th>Innings Not Out Flag</th>\n",
              "      <th>Innings Balls Faced</th>\n",
              "      <th>Innings Boundary Fours</th>\n",
              "      <th>Innings Boundary Sixes</th>\n",
              "      <th>Innings Batting Strike Rate</th>\n",
              "      <th>...</th>\n",
              "      <th>Innings Overs Bowled</th>\n",
              "      <th>Innings Bowled Flag</th>\n",
              "      <th>Innings Maidens Bowled</th>\n",
              "      <th>Innings Runs Conceded</th>\n",
              "      <th>Innings Wickets Taken</th>\n",
              "      <th>4 Wickets</th>\n",
              "      <th>5 Wickets</th>\n",
              "      <th>10 Wickets</th>\n",
              "      <th>Innings Wickets Taken Buckets</th>\n",
              "      <th>Innings Economy Rate</th>\n",
              "    </tr>\n",
              "  </thead>\n",
              "  <tbody>\n",
              "    <tr>\n",
              "      <th>0</th>\n",
              "      <td>E Lewis</td>\n",
              "      <td>65</td>\n",
              "      <td>65</td>\n",
              "      <td>128</td>\n",
              "      <td>1.0</td>\n",
              "      <td>0.0</td>\n",
              "      <td>80</td>\n",
              "      <td>8</td>\n",
              "      <td>1</td>\n",
              "      <td>81.25</td>\n",
              "      <td>...</td>\n",
              "      <td>NaN</td>\n",
              "      <td>NaN</td>\n",
              "      <td>NaN</td>\n",
              "      <td>NaN</td>\n",
              "      <td>NaN</td>\n",
              "      <td>NaN</td>\n",
              "      <td>NaN</td>\n",
              "      <td>NaN</td>\n",
              "      <td>NaN</td>\n",
              "      <td>NaN</td>\n",
              "    </tr>\n",
              "    <tr>\n",
              "      <th>1</th>\n",
              "      <td>N Pooran</td>\n",
              "      <td>42</td>\n",
              "      <td>42</td>\n",
              "      <td>69</td>\n",
              "      <td>1.0</td>\n",
              "      <td>0.0</td>\n",
              "      <td>52</td>\n",
              "      <td>4</td>\n",
              "      <td>1</td>\n",
              "      <td>80.76</td>\n",
              "      <td>...</td>\n",
              "      <td>NaN</td>\n",
              "      <td>NaN</td>\n",
              "      <td>NaN</td>\n",
              "      <td>NaN</td>\n",
              "      <td>NaN</td>\n",
              "      <td>NaN</td>\n",
              "      <td>NaN</td>\n",
              "      <td>NaN</td>\n",
              "      <td>NaN</td>\n",
              "      <td>NaN</td>\n",
              "    </tr>\n",
              "    <tr>\n",
              "      <th>2</th>\n",
              "      <td>SO Hetmyer</td>\n",
              "      <td>18</td>\n",
              "      <td>18</td>\n",
              "      <td>31</td>\n",
              "      <td>1.0</td>\n",
              "      <td>0.0</td>\n",
              "      <td>20</td>\n",
              "      <td>2</td>\n",
              "      <td>0</td>\n",
              "      <td>90</td>\n",
              "      <td>...</td>\n",
              "      <td>NaN</td>\n",
              "      <td>NaN</td>\n",
              "      <td>NaN</td>\n",
              "      <td>NaN</td>\n",
              "      <td>NaN</td>\n",
              "      <td>NaN</td>\n",
              "      <td>NaN</td>\n",
              "      <td>NaN</td>\n",
              "      <td>NaN</td>\n",
              "      <td>NaN</td>\n",
              "    </tr>\n",
              "    <tr>\n",
              "      <th>3</th>\n",
              "      <td>RL Chase</td>\n",
              "      <td>18</td>\n",
              "      <td>18</td>\n",
              "      <td>34</td>\n",
              "      <td>1.0</td>\n",
              "      <td>0.0</td>\n",
              "      <td>23</td>\n",
              "      <td>0</td>\n",
              "      <td>0</td>\n",
              "      <td>78.26</td>\n",
              "      <td>...</td>\n",
              "      <td>NaN</td>\n",
              "      <td>NaN</td>\n",
              "      <td>NaN</td>\n",
              "      <td>NaN</td>\n",
              "      <td>NaN</td>\n",
              "      <td>NaN</td>\n",
              "      <td>NaN</td>\n",
              "      <td>NaN</td>\n",
              "      <td>NaN</td>\n",
              "      <td>NaN</td>\n",
              "    </tr>\n",
              "    <tr>\n",
              "      <th>4</th>\n",
              "      <td>SS Cottrell</td>\n",
              "      <td>17</td>\n",
              "      <td>17</td>\n",
              "      <td>23</td>\n",
              "      <td>1.0</td>\n",
              "      <td>0.0</td>\n",
              "      <td>18</td>\n",
              "      <td>2</td>\n",
              "      <td>1</td>\n",
              "      <td>94.44</td>\n",
              "      <td>...</td>\n",
              "      <td>NaN</td>\n",
              "      <td>NaN</td>\n",
              "      <td>NaN</td>\n",
              "      <td>NaN</td>\n",
              "      <td>NaN</td>\n",
              "      <td>NaN</td>\n",
              "      <td>NaN</td>\n",
              "      <td>NaN</td>\n",
              "      <td>NaN</td>\n",
              "      <td>NaN</td>\n",
              "    </tr>\n",
              "    <tr>\n",
              "      <th>...</th>\n",
              "      <td>...</td>\n",
              "      <td>...</td>\n",
              "      <td>...</td>\n",
              "      <td>...</td>\n",
              "      <td>...</td>\n",
              "      <td>...</td>\n",
              "      <td>...</td>\n",
              "      <td>...</td>\n",
              "      <td>...</td>\n",
              "      <td>...</td>\n",
              "      <td>...</td>\n",
              "      <td>...</td>\n",
              "      <td>...</td>\n",
              "      <td>...</td>\n",
              "      <td>...</td>\n",
              "      <td>...</td>\n",
              "      <td>...</td>\n",
              "      <td>...</td>\n",
              "      <td>...</td>\n",
              "      <td>...</td>\n",
              "      <td>...</td>\n",
              "    </tr>\n",
              "    <tr>\n",
              "      <th>171963</th>\n",
              "      <td>IR Redpath</td>\n",
              "      <td>NaN</td>\n",
              "      <td>NaN</td>\n",
              "      <td>NaN</td>\n",
              "      <td>NaN</td>\n",
              "      <td>NaN</td>\n",
              "      <td>NaN</td>\n",
              "      <td>NaN</td>\n",
              "      <td>NaN</td>\n",
              "      <td>NaN</td>\n",
              "      <td>...</td>\n",
              "      <td>DNB</td>\n",
              "      <td>0.0</td>\n",
              "      <td>-</td>\n",
              "      <td>-</td>\n",
              "      <td>-</td>\n",
              "      <td>1.0</td>\n",
              "      <td>0.0</td>\n",
              "      <td>0.0</td>\n",
              "      <td>-</td>\n",
              "      <td>-</td>\n",
              "    </tr>\n",
              "    <tr>\n",
              "      <th>171964</th>\n",
              "      <td>IM Chappell</td>\n",
              "      <td>NaN</td>\n",
              "      <td>NaN</td>\n",
              "      <td>NaN</td>\n",
              "      <td>NaN</td>\n",
              "      <td>NaN</td>\n",
              "      <td>NaN</td>\n",
              "      <td>NaN</td>\n",
              "      <td>NaN</td>\n",
              "      <td>NaN</td>\n",
              "      <td>...</td>\n",
              "      <td>DNB</td>\n",
              "      <td>0.0</td>\n",
              "      <td>-</td>\n",
              "      <td>-</td>\n",
              "      <td>-</td>\n",
              "      <td>1.0</td>\n",
              "      <td>0.0</td>\n",
              "      <td>0.0</td>\n",
              "      <td>-</td>\n",
              "      <td>-</td>\n",
              "    </tr>\n",
              "    <tr>\n",
              "      <th>171965</th>\n",
              "      <td>KD Walters</td>\n",
              "      <td>NaN</td>\n",
              "      <td>NaN</td>\n",
              "      <td>NaN</td>\n",
              "      <td>NaN</td>\n",
              "      <td>NaN</td>\n",
              "      <td>NaN</td>\n",
              "      <td>NaN</td>\n",
              "      <td>NaN</td>\n",
              "      <td>NaN</td>\n",
              "      <td>...</td>\n",
              "      <td>DNB</td>\n",
              "      <td>0.0</td>\n",
              "      <td>-</td>\n",
              "      <td>-</td>\n",
              "      <td>-</td>\n",
              "      <td>1.0</td>\n",
              "      <td>0.0</td>\n",
              "      <td>0.0</td>\n",
              "      <td>-</td>\n",
              "      <td>-</td>\n",
              "    </tr>\n",
              "    <tr>\n",
              "      <th>171966</th>\n",
              "      <td>RW Marsh</td>\n",
              "      <td>NaN</td>\n",
              "      <td>NaN</td>\n",
              "      <td>NaN</td>\n",
              "      <td>NaN</td>\n",
              "      <td>NaN</td>\n",
              "      <td>NaN</td>\n",
              "      <td>NaN</td>\n",
              "      <td>NaN</td>\n",
              "      <td>NaN</td>\n",
              "      <td>...</td>\n",
              "      <td>DNB</td>\n",
              "      <td>0.0</td>\n",
              "      <td>-</td>\n",
              "      <td>-</td>\n",
              "      <td>-</td>\n",
              "      <td>1.0</td>\n",
              "      <td>0.0</td>\n",
              "      <td>0.0</td>\n",
              "      <td>-</td>\n",
              "      <td>-</td>\n",
              "    </tr>\n",
              "    <tr>\n",
              "      <th>171967</th>\n",
              "      <td>GS Chappell</td>\n",
              "      <td>NaN</td>\n",
              "      <td>NaN</td>\n",
              "      <td>NaN</td>\n",
              "      <td>NaN</td>\n",
              "      <td>NaN</td>\n",
              "      <td>NaN</td>\n",
              "      <td>NaN</td>\n",
              "      <td>NaN</td>\n",
              "      <td>NaN</td>\n",
              "      <td>...</td>\n",
              "      <td>DNB</td>\n",
              "      <td>0.0</td>\n",
              "      <td>-</td>\n",
              "      <td>-</td>\n",
              "      <td>-</td>\n",
              "      <td>1.0</td>\n",
              "      <td>0.0</td>\n",
              "      <td>0.0</td>\n",
              "      <td>-</td>\n",
              "      <td>-</td>\n",
              "    </tr>\n",
              "  </tbody>\n",
              "</table>\n",
              "<p>171968 rows × 28 columns</p>\n",
              "</div>\n",
              "      <button class=\"colab-df-convert\" onclick=\"convertToInteractive('df-45a1f4b8-5e29-485b-9843-ef3e369c69c5')\"\n",
              "              title=\"Convert this dataframe to an interactive table.\"\n",
              "              style=\"display:none;\">\n",
              "        \n",
              "  <svg xmlns=\"http://www.w3.org/2000/svg\" height=\"24px\"viewBox=\"0 0 24 24\"\n",
              "       width=\"24px\">\n",
              "    <path d=\"M0 0h24v24H0V0z\" fill=\"none\"/>\n",
              "    <path d=\"M18.56 5.44l.94 2.06.94-2.06 2.06-.94-2.06-.94-.94-2.06-.94 2.06-2.06.94zm-11 1L8.5 8.5l.94-2.06 2.06-.94-2.06-.94L8.5 2.5l-.94 2.06-2.06.94zm10 10l.94 2.06.94-2.06 2.06-.94-2.06-.94-.94-2.06-.94 2.06-2.06.94z\"/><path d=\"M17.41 7.96l-1.37-1.37c-.4-.4-.92-.59-1.43-.59-.52 0-1.04.2-1.43.59L10.3 9.45l-7.72 7.72c-.78.78-.78 2.05 0 2.83L4 21.41c.39.39.9.59 1.41.59.51 0 1.02-.2 1.41-.59l7.78-7.78 2.81-2.81c.8-.78.8-2.07 0-2.86zM5.41 20L4 18.59l7.72-7.72 1.47 1.35L5.41 20z\"/>\n",
              "  </svg>\n",
              "      </button>\n",
              "      \n",
              "  <style>\n",
              "    .colab-df-container {\n",
              "      display:flex;\n",
              "      flex-wrap:wrap;\n",
              "      gap: 12px;\n",
              "    }\n",
              "\n",
              "    .colab-df-convert {\n",
              "      background-color: #E8F0FE;\n",
              "      border: none;\n",
              "      border-radius: 50%;\n",
              "      cursor: pointer;\n",
              "      display: none;\n",
              "      fill: #1967D2;\n",
              "      height: 32px;\n",
              "      padding: 0 0 0 0;\n",
              "      width: 32px;\n",
              "    }\n",
              "\n",
              "    .colab-df-convert:hover {\n",
              "      background-color: #E2EBFA;\n",
              "      box-shadow: 0px 1px 2px rgba(60, 64, 67, 0.3), 0px 1px 3px 1px rgba(60, 64, 67, 0.15);\n",
              "      fill: #174EA6;\n",
              "    }\n",
              "\n",
              "    [theme=dark] .colab-df-convert {\n",
              "      background-color: #3B4455;\n",
              "      fill: #D2E3FC;\n",
              "    }\n",
              "\n",
              "    [theme=dark] .colab-df-convert:hover {\n",
              "      background-color: #434B5C;\n",
              "      box-shadow: 0px 1px 3px 1px rgba(0, 0, 0, 0.15);\n",
              "      filter: drop-shadow(0px 1px 2px rgba(0, 0, 0, 0.3));\n",
              "      fill: #FFFFFF;\n",
              "    }\n",
              "  </style>\n",
              "\n",
              "      <script>\n",
              "        const buttonEl =\n",
              "          document.querySelector('#df-45a1f4b8-5e29-485b-9843-ef3e369c69c5 button.colab-df-convert');\n",
              "        buttonEl.style.display =\n",
              "          google.colab.kernel.accessAllowed ? 'block' : 'none';\n",
              "\n",
              "        async function convertToInteractive(key) {\n",
              "          const element = document.querySelector('#df-45a1f4b8-5e29-485b-9843-ef3e369c69c5');\n",
              "          const dataTable =\n",
              "            await google.colab.kernel.invokeFunction('convertToInteractive',\n",
              "                                                     [key], {});\n",
              "          if (!dataTable) return;\n",
              "\n",
              "          const docLinkHtml = 'Like what you see? Visit the ' +\n",
              "            '<a target=\"_blank\" href=https://colab.research.google.com/notebooks/data_table.ipynb>data table notebook</a>'\n",
              "            + ' to learn more about interactive tables.';\n",
              "          element.innerHTML = '';\n",
              "          dataTable['output_type'] = 'display_data';\n",
              "          await google.colab.output.renderOutput(dataTable, element);\n",
              "          const docLink = document.createElement('div');\n",
              "          docLink.innerHTML = docLinkHtml;\n",
              "          element.appendChild(docLink);\n",
              "        }\n",
              "      </script>\n",
              "    </div>\n",
              "  </div>\n",
              "  "
            ]
          },
          "metadata": {},
          "execution_count": 7
        }
      ]
    },
    {
      "cell_type": "code",
      "source": [
        "df.dtypes"
      ],
      "metadata": {
        "colab": {
          "base_uri": "https://localhost:8080/"
        },
        "id": "N4t6Kcf2Dhot",
        "outputId": "058d1de3-3ed0-4513-d2a8-d5d12aeb7513"
      },
      "execution_count": null,
      "outputs": [
        {
          "output_type": "execute_result",
          "data": {
            "text/plain": [
              "Innings Player                           object\n",
              "Innings Runs Scored                      object\n",
              "Innings Runs Scored Num                   int64\n",
              "Innings Minutes Batted                   object\n",
              "Innings Batted Flag                     float64\n",
              "Innings Not Out Flag                    float64\n",
              "Innings Balls Faced                       int64\n",
              "Innings Boundary Fours                   object\n",
              "Innings Boundary Sixes                   object\n",
              "Innings Batting Strike Rate              object\n",
              "Innings Number                            int64\n",
              "Opposition                               object\n",
              "Ground                                   object\n",
              "Innings Date                     datetime64[ns]\n",
              "Country                                  object\n",
              "50's                                    float64\n",
              "100's                                   float64\n",
              "Innings Runs Scored Buckets              object\n",
              "Innings Overs Bowled                     object\n",
              "Innings Bowled Flag                     float64\n",
              "Innings Maidens Bowled                   object\n",
              "Innings Runs Conceded                    object\n",
              "Innings Wickets Taken                    object\n",
              "4 Wickets                               float64\n",
              "5 Wickets                               float64\n",
              "10 Wickets                              float64\n",
              "Innings Wickets Taken Buckets            object\n",
              "Innings Economy Rate                     object\n",
              "Year                                      int64\n",
              "dtype: object"
            ]
          },
          "metadata": {},
          "execution_count": 55
        }
      ]
    },
    {
      "cell_type": "code",
      "source": [
        "df.columns"
      ],
      "metadata": {
        "colab": {
          "base_uri": "https://localhost:8080/"
        },
        "id": "ljN0zKT7Tg7q",
        "outputId": "f9aa89c6-5329-4834-9470-36035b7065a6"
      },
      "execution_count": null,
      "outputs": [
        {
          "output_type": "execute_result",
          "data": {
            "text/plain": [
              "Index(['Innings Player', 'Innings Runs Scored', 'Innings Runs Scored Num',\n",
              "       'Innings Minutes Batted', 'Innings Batted Flag', 'Innings Not Out Flag',\n",
              "       'Innings Balls Faced', 'Innings Boundary Fours',\n",
              "       'Innings Boundary Sixes', 'Innings Batting Strike Rate',\n",
              "       'Innings Number', 'Opposition', 'Ground', 'Innings Date', 'Country',\n",
              "       '50's', '100's', 'Innings Runs Scored Buckets', 'Innings Overs Bowled',\n",
              "       'Innings Bowled Flag', 'Innings Maidens Bowled',\n",
              "       'Innings Runs Conceded', 'Innings Wickets Taken', '4 Wickets',\n",
              "       '5 Wickets', '10 Wickets', 'Innings Wickets Taken Buckets',\n",
              "       'Innings Economy Rate'],\n",
              "      dtype='object')"
            ]
          },
          "metadata": {},
          "execution_count": 8
        }
      ]
    },
    {
      "cell_type": "markdown",
      "source": [
        "['Innings Player', 'Innings Runs Scored', 'Innings Runs Scored Num', 'Innings Balls Faced', 'Innings Boundary Fours',\n",
        "'Innings Boundary Sixes', 'Innings Batting Strike Rate', '50's', '100's',]"
      ],
      "metadata": {
        "id": "gHNu6w3NT9nI"
      }
    },
    {
      "cell_type": "code",
      "source": [
        "df.isnull().sum()"
      ],
      "metadata": {
        "colab": {
          "base_uri": "https://localhost:8080/"
        },
        "id": "s8kzJUqETqj_",
        "outputId": "8ce90eff-5fa9-419d-9993-a44df7a2fa25"
      },
      "execution_count": null,
      "outputs": [
        {
          "output_type": "execute_result",
          "data": {
            "text/plain": [
              "Innings Player                       0\n",
              "Innings Runs Scored              85984\n",
              "Innings Runs Scored Num          85984\n",
              "Innings Minutes Batted           85984\n",
              "Innings Batted Flag              85984\n",
              "Innings Not Out Flag             85984\n",
              "Innings Balls Faced              85984\n",
              "Innings Boundary Fours           85984\n",
              "Innings Boundary Sixes           85984\n",
              "Innings Batting Strike Rate      85984\n",
              "Innings Number                       0\n",
              "Opposition                           0\n",
              "Ground                               0\n",
              "Innings Date                         0\n",
              "Country                              0\n",
              "50's                             85984\n",
              "100's                            85984\n",
              "Innings Runs Scored Buckets      85984\n",
              "Innings Overs Bowled             85984\n",
              "Innings Bowled Flag              85984\n",
              "Innings Maidens Bowled           85984\n",
              "Innings Runs Conceded            85984\n",
              "Innings Wickets Taken            85984\n",
              "4 Wickets                        85984\n",
              "5 Wickets                        85984\n",
              "10 Wickets                       85984\n",
              "Innings Wickets Taken Buckets    85984\n",
              "Innings Economy Rate             85984\n",
              "dtype: int64"
            ]
          },
          "metadata": {},
          "execution_count": 9
        }
      ]
    },
    {
      "cell_type": "markdown",
      "source": [
        "Clearly 85984 rows are missing"
      ],
      "metadata": {
        "id": "QdrHnH97UkER"
      }
    },
    {
      "cell_type": "code",
      "source": [
        "df = df.dropna(subset = ['Innings Runs Scored'])\n",
        "df"
      ],
      "metadata": {
        "colab": {
          "base_uri": "https://localhost:8080/",
          "height": 679
        },
        "id": "Pzcd4I8lUeTj",
        "outputId": "eb5fd0fd-018d-4566-dd37-e6043151842c"
      },
      "execution_count": null,
      "outputs": [
        {
          "output_type": "execute_result",
          "data": {
            "text/plain": [
              "       Innings Player Innings Runs Scored Innings Runs Scored Num  \\\n",
              "0             E Lewis                  65                      65   \n",
              "1            N Pooran                  42                      42   \n",
              "2          SO Hetmyer                  18                      18   \n",
              "3            RL Chase                  18                      18   \n",
              "4         SS Cottrell                  17                      17   \n",
              "...               ...                 ...                     ...   \n",
              "171941       RW Marsh                 10*                      10   \n",
              "171942    GD McKenzie                 DNB                       -   \n",
              "171943     AA Mallett                 DNB                       -   \n",
              "171944    AN Connolly                 DNB                       -   \n",
              "171945     AL Thomson                 DNB                       -   \n",
              "\n",
              "       Innings Minutes Batted  Innings Batted Flag  Innings Not Out Flag  \\\n",
              "0                         128                  1.0                   0.0   \n",
              "1                          69                  1.0                   0.0   \n",
              "2                          31                  1.0                   0.0   \n",
              "3                          34                  1.0                   0.0   \n",
              "4                          23                  1.0                   0.0   \n",
              "...                       ...                  ...                   ...   \n",
              "171941                     24                  1.0                   1.0   \n",
              "171942                      -                  0.0                   0.0   \n",
              "171943                      -                  0.0                   0.0   \n",
              "171944                      -                  0.0                   0.0   \n",
              "171945                      -                  0.0                   0.0   \n",
              "\n",
              "       Innings Balls Faced Innings Boundary Fours Innings Boundary Sixes  \\\n",
              "0                       80                      8                      1   \n",
              "1                       52                      4                      1   \n",
              "2                       20                      2                      0   \n",
              "3                       23                      0                      0   \n",
              "4                       18                      2                      1   \n",
              "...                    ...                    ...                    ...   \n",
              "171941                  18                      2                      0   \n",
              "171942                   -                      -                      -   \n",
              "171943                   -                      -                      -   \n",
              "171944                   -                      -                      -   \n",
              "171945                   -                      -                      -   \n",
              "\n",
              "       Innings Batting Strike Rate  ... Innings Overs Bowled  \\\n",
              "0                            81.25  ...                  NaN   \n",
              "1                            80.76  ...                  NaN   \n",
              "2                               90  ...                  NaN   \n",
              "3                            78.26  ...                  NaN   \n",
              "4                            94.44  ...                  NaN   \n",
              "...                            ...  ...                  ...   \n",
              "171941                       55.55  ...                  NaN   \n",
              "171942                           -  ...                  NaN   \n",
              "171943                           -  ...                  NaN   \n",
              "171944                           -  ...                  NaN   \n",
              "171945                           -  ...                  NaN   \n",
              "\n",
              "       Innings Bowled Flag Innings Maidens Bowled Innings Runs Conceded  \\\n",
              "0                      NaN                    NaN                   NaN   \n",
              "1                      NaN                    NaN                   NaN   \n",
              "2                      NaN                    NaN                   NaN   \n",
              "3                      NaN                    NaN                   NaN   \n",
              "4                      NaN                    NaN                   NaN   \n",
              "...                    ...                    ...                   ...   \n",
              "171941                 NaN                    NaN                   NaN   \n",
              "171942                 NaN                    NaN                   NaN   \n",
              "171943                 NaN                    NaN                   NaN   \n",
              "171944                 NaN                    NaN                   NaN   \n",
              "171945                 NaN                    NaN                   NaN   \n",
              "\n",
              "       Innings Wickets Taken  4 Wickets  5 Wickets 10 Wickets  \\\n",
              "0                        NaN        NaN        NaN        NaN   \n",
              "1                        NaN        NaN        NaN        NaN   \n",
              "2                        NaN        NaN        NaN        NaN   \n",
              "3                        NaN        NaN        NaN        NaN   \n",
              "4                        NaN        NaN        NaN        NaN   \n",
              "...                      ...        ...        ...        ...   \n",
              "171941                   NaN        NaN        NaN        NaN   \n",
              "171942                   NaN        NaN        NaN        NaN   \n",
              "171943                   NaN        NaN        NaN        NaN   \n",
              "171944                   NaN        NaN        NaN        NaN   \n",
              "171945                   NaN        NaN        NaN        NaN   \n",
              "\n",
              "       Innings Wickets Taken Buckets  Innings Economy Rate  \n",
              "0                                NaN                   NaN  \n",
              "1                                NaN                   NaN  \n",
              "2                                NaN                   NaN  \n",
              "3                                NaN                   NaN  \n",
              "4                                NaN                   NaN  \n",
              "...                              ...                   ...  \n",
              "171941                           NaN                   NaN  \n",
              "171942                           NaN                   NaN  \n",
              "171943                           NaN                   NaN  \n",
              "171944                           NaN                   NaN  \n",
              "171945                           NaN                   NaN  \n",
              "\n",
              "[85984 rows x 28 columns]"
            ],
            "text/html": [
              "\n",
              "  <div id=\"df-04d262c4-34df-4a42-a65b-a78b77879588\">\n",
              "    <div class=\"colab-df-container\">\n",
              "      <div>\n",
              "<style scoped>\n",
              "    .dataframe tbody tr th:only-of-type {\n",
              "        vertical-align: middle;\n",
              "    }\n",
              "\n",
              "    .dataframe tbody tr th {\n",
              "        vertical-align: top;\n",
              "    }\n",
              "\n",
              "    .dataframe thead th {\n",
              "        text-align: right;\n",
              "    }\n",
              "</style>\n",
              "<table border=\"1\" class=\"dataframe\">\n",
              "  <thead>\n",
              "    <tr style=\"text-align: right;\">\n",
              "      <th></th>\n",
              "      <th>Innings Player</th>\n",
              "      <th>Innings Runs Scored</th>\n",
              "      <th>Innings Runs Scored Num</th>\n",
              "      <th>Innings Minutes Batted</th>\n",
              "      <th>Innings Batted Flag</th>\n",
              "      <th>Innings Not Out Flag</th>\n",
              "      <th>Innings Balls Faced</th>\n",
              "      <th>Innings Boundary Fours</th>\n",
              "      <th>Innings Boundary Sixes</th>\n",
              "      <th>Innings Batting Strike Rate</th>\n",
              "      <th>...</th>\n",
              "      <th>Innings Overs Bowled</th>\n",
              "      <th>Innings Bowled Flag</th>\n",
              "      <th>Innings Maidens Bowled</th>\n",
              "      <th>Innings Runs Conceded</th>\n",
              "      <th>Innings Wickets Taken</th>\n",
              "      <th>4 Wickets</th>\n",
              "      <th>5 Wickets</th>\n",
              "      <th>10 Wickets</th>\n",
              "      <th>Innings Wickets Taken Buckets</th>\n",
              "      <th>Innings Economy Rate</th>\n",
              "    </tr>\n",
              "  </thead>\n",
              "  <tbody>\n",
              "    <tr>\n",
              "      <th>0</th>\n",
              "      <td>E Lewis</td>\n",
              "      <td>65</td>\n",
              "      <td>65</td>\n",
              "      <td>128</td>\n",
              "      <td>1.0</td>\n",
              "      <td>0.0</td>\n",
              "      <td>80</td>\n",
              "      <td>8</td>\n",
              "      <td>1</td>\n",
              "      <td>81.25</td>\n",
              "      <td>...</td>\n",
              "      <td>NaN</td>\n",
              "      <td>NaN</td>\n",
              "      <td>NaN</td>\n",
              "      <td>NaN</td>\n",
              "      <td>NaN</td>\n",
              "      <td>NaN</td>\n",
              "      <td>NaN</td>\n",
              "      <td>NaN</td>\n",
              "      <td>NaN</td>\n",
              "      <td>NaN</td>\n",
              "    </tr>\n",
              "    <tr>\n",
              "      <th>1</th>\n",
              "      <td>N Pooran</td>\n",
              "      <td>42</td>\n",
              "      <td>42</td>\n",
              "      <td>69</td>\n",
              "      <td>1.0</td>\n",
              "      <td>0.0</td>\n",
              "      <td>52</td>\n",
              "      <td>4</td>\n",
              "      <td>1</td>\n",
              "      <td>80.76</td>\n",
              "      <td>...</td>\n",
              "      <td>NaN</td>\n",
              "      <td>NaN</td>\n",
              "      <td>NaN</td>\n",
              "      <td>NaN</td>\n",
              "      <td>NaN</td>\n",
              "      <td>NaN</td>\n",
              "      <td>NaN</td>\n",
              "      <td>NaN</td>\n",
              "      <td>NaN</td>\n",
              "      <td>NaN</td>\n",
              "    </tr>\n",
              "    <tr>\n",
              "      <th>2</th>\n",
              "      <td>SO Hetmyer</td>\n",
              "      <td>18</td>\n",
              "      <td>18</td>\n",
              "      <td>31</td>\n",
              "      <td>1.0</td>\n",
              "      <td>0.0</td>\n",
              "      <td>20</td>\n",
              "      <td>2</td>\n",
              "      <td>0</td>\n",
              "      <td>90</td>\n",
              "      <td>...</td>\n",
              "      <td>NaN</td>\n",
              "      <td>NaN</td>\n",
              "      <td>NaN</td>\n",
              "      <td>NaN</td>\n",
              "      <td>NaN</td>\n",
              "      <td>NaN</td>\n",
              "      <td>NaN</td>\n",
              "      <td>NaN</td>\n",
              "      <td>NaN</td>\n",
              "      <td>NaN</td>\n",
              "    </tr>\n",
              "    <tr>\n",
              "      <th>3</th>\n",
              "      <td>RL Chase</td>\n",
              "      <td>18</td>\n",
              "      <td>18</td>\n",
              "      <td>34</td>\n",
              "      <td>1.0</td>\n",
              "      <td>0.0</td>\n",
              "      <td>23</td>\n",
              "      <td>0</td>\n",
              "      <td>0</td>\n",
              "      <td>78.26</td>\n",
              "      <td>...</td>\n",
              "      <td>NaN</td>\n",
              "      <td>NaN</td>\n",
              "      <td>NaN</td>\n",
              "      <td>NaN</td>\n",
              "      <td>NaN</td>\n",
              "      <td>NaN</td>\n",
              "      <td>NaN</td>\n",
              "      <td>NaN</td>\n",
              "      <td>NaN</td>\n",
              "      <td>NaN</td>\n",
              "    </tr>\n",
              "    <tr>\n",
              "      <th>4</th>\n",
              "      <td>SS Cottrell</td>\n",
              "      <td>17</td>\n",
              "      <td>17</td>\n",
              "      <td>23</td>\n",
              "      <td>1.0</td>\n",
              "      <td>0.0</td>\n",
              "      <td>18</td>\n",
              "      <td>2</td>\n",
              "      <td>1</td>\n",
              "      <td>94.44</td>\n",
              "      <td>...</td>\n",
              "      <td>NaN</td>\n",
              "      <td>NaN</td>\n",
              "      <td>NaN</td>\n",
              "      <td>NaN</td>\n",
              "      <td>NaN</td>\n",
              "      <td>NaN</td>\n",
              "      <td>NaN</td>\n",
              "      <td>NaN</td>\n",
              "      <td>NaN</td>\n",
              "      <td>NaN</td>\n",
              "    </tr>\n",
              "    <tr>\n",
              "      <th>...</th>\n",
              "      <td>...</td>\n",
              "      <td>...</td>\n",
              "      <td>...</td>\n",
              "      <td>...</td>\n",
              "      <td>...</td>\n",
              "      <td>...</td>\n",
              "      <td>...</td>\n",
              "      <td>...</td>\n",
              "      <td>...</td>\n",
              "      <td>...</td>\n",
              "      <td>...</td>\n",
              "      <td>...</td>\n",
              "      <td>...</td>\n",
              "      <td>...</td>\n",
              "      <td>...</td>\n",
              "      <td>...</td>\n",
              "      <td>...</td>\n",
              "      <td>...</td>\n",
              "      <td>...</td>\n",
              "      <td>...</td>\n",
              "      <td>...</td>\n",
              "    </tr>\n",
              "    <tr>\n",
              "      <th>171941</th>\n",
              "      <td>RW Marsh</td>\n",
              "      <td>10*</td>\n",
              "      <td>10</td>\n",
              "      <td>24</td>\n",
              "      <td>1.0</td>\n",
              "      <td>1.0</td>\n",
              "      <td>18</td>\n",
              "      <td>2</td>\n",
              "      <td>0</td>\n",
              "      <td>55.55</td>\n",
              "      <td>...</td>\n",
              "      <td>NaN</td>\n",
              "      <td>NaN</td>\n",
              "      <td>NaN</td>\n",
              "      <td>NaN</td>\n",
              "      <td>NaN</td>\n",
              "      <td>NaN</td>\n",
              "      <td>NaN</td>\n",
              "      <td>NaN</td>\n",
              "      <td>NaN</td>\n",
              "      <td>NaN</td>\n",
              "    </tr>\n",
              "    <tr>\n",
              "      <th>171942</th>\n",
              "      <td>GD McKenzie</td>\n",
              "      <td>DNB</td>\n",
              "      <td>-</td>\n",
              "      <td>-</td>\n",
              "      <td>0.0</td>\n",
              "      <td>0.0</td>\n",
              "      <td>-</td>\n",
              "      <td>-</td>\n",
              "      <td>-</td>\n",
              "      <td>-</td>\n",
              "      <td>...</td>\n",
              "      <td>NaN</td>\n",
              "      <td>NaN</td>\n",
              "      <td>NaN</td>\n",
              "      <td>NaN</td>\n",
              "      <td>NaN</td>\n",
              "      <td>NaN</td>\n",
              "      <td>NaN</td>\n",
              "      <td>NaN</td>\n",
              "      <td>NaN</td>\n",
              "      <td>NaN</td>\n",
              "    </tr>\n",
              "    <tr>\n",
              "      <th>171943</th>\n",
              "      <td>AA Mallett</td>\n",
              "      <td>DNB</td>\n",
              "      <td>-</td>\n",
              "      <td>-</td>\n",
              "      <td>0.0</td>\n",
              "      <td>0.0</td>\n",
              "      <td>-</td>\n",
              "      <td>-</td>\n",
              "      <td>-</td>\n",
              "      <td>-</td>\n",
              "      <td>...</td>\n",
              "      <td>NaN</td>\n",
              "      <td>NaN</td>\n",
              "      <td>NaN</td>\n",
              "      <td>NaN</td>\n",
              "      <td>NaN</td>\n",
              "      <td>NaN</td>\n",
              "      <td>NaN</td>\n",
              "      <td>NaN</td>\n",
              "      <td>NaN</td>\n",
              "      <td>NaN</td>\n",
              "    </tr>\n",
              "    <tr>\n",
              "      <th>171944</th>\n",
              "      <td>AN Connolly</td>\n",
              "      <td>DNB</td>\n",
              "      <td>-</td>\n",
              "      <td>-</td>\n",
              "      <td>0.0</td>\n",
              "      <td>0.0</td>\n",
              "      <td>-</td>\n",
              "      <td>-</td>\n",
              "      <td>-</td>\n",
              "      <td>-</td>\n",
              "      <td>...</td>\n",
              "      <td>NaN</td>\n",
              "      <td>NaN</td>\n",
              "      <td>NaN</td>\n",
              "      <td>NaN</td>\n",
              "      <td>NaN</td>\n",
              "      <td>NaN</td>\n",
              "      <td>NaN</td>\n",
              "      <td>NaN</td>\n",
              "      <td>NaN</td>\n",
              "      <td>NaN</td>\n",
              "    </tr>\n",
              "    <tr>\n",
              "      <th>171945</th>\n",
              "      <td>AL Thomson</td>\n",
              "      <td>DNB</td>\n",
              "      <td>-</td>\n",
              "      <td>-</td>\n",
              "      <td>0.0</td>\n",
              "      <td>0.0</td>\n",
              "      <td>-</td>\n",
              "      <td>-</td>\n",
              "      <td>-</td>\n",
              "      <td>-</td>\n",
              "      <td>...</td>\n",
              "      <td>NaN</td>\n",
              "      <td>NaN</td>\n",
              "      <td>NaN</td>\n",
              "      <td>NaN</td>\n",
              "      <td>NaN</td>\n",
              "      <td>NaN</td>\n",
              "      <td>NaN</td>\n",
              "      <td>NaN</td>\n",
              "      <td>NaN</td>\n",
              "      <td>NaN</td>\n",
              "    </tr>\n",
              "  </tbody>\n",
              "</table>\n",
              "<p>85984 rows × 28 columns</p>\n",
              "</div>\n",
              "      <button class=\"colab-df-convert\" onclick=\"convertToInteractive('df-04d262c4-34df-4a42-a65b-a78b77879588')\"\n",
              "              title=\"Convert this dataframe to an interactive table.\"\n",
              "              style=\"display:none;\">\n",
              "        \n",
              "  <svg xmlns=\"http://www.w3.org/2000/svg\" height=\"24px\"viewBox=\"0 0 24 24\"\n",
              "       width=\"24px\">\n",
              "    <path d=\"M0 0h24v24H0V0z\" fill=\"none\"/>\n",
              "    <path d=\"M18.56 5.44l.94 2.06.94-2.06 2.06-.94-2.06-.94-.94-2.06-.94 2.06-2.06.94zm-11 1L8.5 8.5l.94-2.06 2.06-.94-2.06-.94L8.5 2.5l-.94 2.06-2.06.94zm10 10l.94 2.06.94-2.06 2.06-.94-2.06-.94-.94-2.06-.94 2.06-2.06.94z\"/><path d=\"M17.41 7.96l-1.37-1.37c-.4-.4-.92-.59-1.43-.59-.52 0-1.04.2-1.43.59L10.3 9.45l-7.72 7.72c-.78.78-.78 2.05 0 2.83L4 21.41c.39.39.9.59 1.41.59.51 0 1.02-.2 1.41-.59l7.78-7.78 2.81-2.81c.8-.78.8-2.07 0-2.86zM5.41 20L4 18.59l7.72-7.72 1.47 1.35L5.41 20z\"/>\n",
              "  </svg>\n",
              "      </button>\n",
              "      \n",
              "  <style>\n",
              "    .colab-df-container {\n",
              "      display:flex;\n",
              "      flex-wrap:wrap;\n",
              "      gap: 12px;\n",
              "    }\n",
              "\n",
              "    .colab-df-convert {\n",
              "      background-color: #E8F0FE;\n",
              "      border: none;\n",
              "      border-radius: 50%;\n",
              "      cursor: pointer;\n",
              "      display: none;\n",
              "      fill: #1967D2;\n",
              "      height: 32px;\n",
              "      padding: 0 0 0 0;\n",
              "      width: 32px;\n",
              "    }\n",
              "\n",
              "    .colab-df-convert:hover {\n",
              "      background-color: #E2EBFA;\n",
              "      box-shadow: 0px 1px 2px rgba(60, 64, 67, 0.3), 0px 1px 3px 1px rgba(60, 64, 67, 0.15);\n",
              "      fill: #174EA6;\n",
              "    }\n",
              "\n",
              "    [theme=dark] .colab-df-convert {\n",
              "      background-color: #3B4455;\n",
              "      fill: #D2E3FC;\n",
              "    }\n",
              "\n",
              "    [theme=dark] .colab-df-convert:hover {\n",
              "      background-color: #434B5C;\n",
              "      box-shadow: 0px 1px 3px 1px rgba(0, 0, 0, 0.15);\n",
              "      filter: drop-shadow(0px 1px 2px rgba(0, 0, 0, 0.3));\n",
              "      fill: #FFFFFF;\n",
              "    }\n",
              "  </style>\n",
              "\n",
              "      <script>\n",
              "        const buttonEl =\n",
              "          document.querySelector('#df-04d262c4-34df-4a42-a65b-a78b77879588 button.colab-df-convert');\n",
              "        buttonEl.style.display =\n",
              "          google.colab.kernel.accessAllowed ? 'block' : 'none';\n",
              "\n",
              "        async function convertToInteractive(key) {\n",
              "          const element = document.querySelector('#df-04d262c4-34df-4a42-a65b-a78b77879588');\n",
              "          const dataTable =\n",
              "            await google.colab.kernel.invokeFunction('convertToInteractive',\n",
              "                                                     [key], {});\n",
              "          if (!dataTable) return;\n",
              "\n",
              "          const docLinkHtml = 'Like what you see? Visit the ' +\n",
              "            '<a target=\"_blank\" href=https://colab.research.google.com/notebooks/data_table.ipynb>data table notebook</a>'\n",
              "            + ' to learn more about interactive tables.';\n",
              "          element.innerHTML = '';\n",
              "          dataTable['output_type'] = 'display_data';\n",
              "          await google.colab.output.renderOutput(dataTable, element);\n",
              "          const docLink = document.createElement('div');\n",
              "          docLink.innerHTML = docLinkHtml;\n",
              "          element.appendChild(docLink);\n",
              "        }\n",
              "      </script>\n",
              "    </div>\n",
              "  </div>\n",
              "  "
            ]
          },
          "metadata": {},
          "execution_count": 10
        }
      ]
    },
    {
      "cell_type": "code",
      "source": [
        "df['Innings Runs Scored Num'].unique()"
      ],
      "metadata": {
        "colab": {
          "base_uri": "https://localhost:8080/"
        },
        "id": "qPxN488cU1gp",
        "outputId": "4c0438c7-063c-464d-9471-dbd336fe43d2"
      },
      "execution_count": null,
      "outputs": [
        {
          "output_type": "execute_result",
          "data": {
            "text/plain": [
              "array(['65', '42', '18', '17', '13', '11', '5', '0', '120', '71', '20',\n",
              "       '16', '3', '2', '1', '-', '40', '6', '4', '87', '54', '46', '30',\n",
              "       '12', '69', '39', '14', '10', '9', '8', '7', '82', '52', '41',\n",
              "       '15', '98', '43', '19', '111', '48', '36', '25', '67', '60', '84',\n",
              "       '59', '55', '47', '85', '49', '45', '34', '29', '22', '74', '28',\n",
              "       '77', '50', '32', '23', '35', '122', '100', '95', '103', '113',\n",
              "       '53', '96', '27', '64', '58', '33', '31', '73', '56', '86', '62',\n",
              "       '106', '24', '57', '104', '26', '66', '51', '118', '105', '101',\n",
              "       '21', '79', '44', '102', '88', '80', '72', '97', '68', '89', '38',\n",
              "       '83', '63', '148', '166', '90', '76', '37', '70', '124', '94',\n",
              "       '140', '153', '107', '117', '121', '92', '78', '75', '114', '115',\n",
              "       '130', '128', '151', '110', '138', '135', '109', '61', '179',\n",
              "       '170', '112', '116', '91', '143', '93', '123', '145', '81', '150',\n",
              "       '162', '108', '131', '133', '137', '146', '139', '125', '129',\n",
              "       '157', '152', '144', '99', '127', '210', '147', '126', '181',\n",
              "       '160', '180', '208', '176', '168', '141', '132', '119', '154',\n",
              "       '185', '134', '156', '164', '173', '178', '171', '149', '237',\n",
              "       '159', '161', '215', '264', '136', '169', '209', '174', '189',\n",
              "       '183', '163', '219', '158', '175', '177', '200', '194', '142',\n",
              "       '172', '186', '188', '167'], dtype=object)"
            ]
          },
          "metadata": {},
          "execution_count": 11
        }
      ]
    },
    {
      "cell_type": "code",
      "source": [
        "df = df[df['Innings Runs Scored Num'] != '-']"
      ],
      "metadata": {
        "id": "ruEaikDkXVFA"
      },
      "execution_count": null,
      "outputs": []
    },
    {
      "cell_type": "code",
      "source": [
        "df['Innings Runs Scored Num'].unique()"
      ],
      "metadata": {
        "colab": {
          "base_uri": "https://localhost:8080/"
        },
        "outputId": "2c41ef7f-7071-4cf4-fc08-b7e5d1edadeb",
        "id": "melY_LwWaMC1"
      },
      "execution_count": null,
      "outputs": [
        {
          "output_type": "execute_result",
          "data": {
            "text/plain": [
              "array(['65', '42', '18', '17', '13', '11', '5', '0', '120', '71', '20',\n",
              "       '16', '3', '2', '1', '40', '6', '4', '87', '54', '46', '30', '12',\n",
              "       '69', '39', '14', '10', '9', '8', '7', '82', '52', '41', '15',\n",
              "       '98', '43', '19', '111', '48', '36', '25', '67', '60', '84', '59',\n",
              "       '55', '47', '85', '49', '45', '34', '29', '22', '74', '28', '77',\n",
              "       '50', '32', '23', '35', '122', '100', '95', '103', '113', '53',\n",
              "       '96', '27', '64', '58', '33', '31', '73', '56', '86', '62', '106',\n",
              "       '24', '57', '104', '26', '66', '51', '118', '105', '101', '21',\n",
              "       '79', '44', '102', '88', '80', '72', '97', '68', '89', '38', '83',\n",
              "       '63', '148', '166', '90', '76', '37', '70', '124', '94', '140',\n",
              "       '153', '107', '117', '121', '92', '78', '75', '114', '115', '130',\n",
              "       '128', '151', '110', '138', '135', '109', '61', '179', '170',\n",
              "       '112', '116', '91', '143', '93', '123', '145', '81', '150', '162',\n",
              "       '108', '131', '133', '137', '146', '139', '125', '129', '157',\n",
              "       '152', '144', '99', '127', '210', '147', '126', '181', '160',\n",
              "       '180', '208', '176', '168', '141', '132', '119', '154', '185',\n",
              "       '134', '156', '164', '173', '178', '171', '149', '237', '159',\n",
              "       '161', '215', '264', '136', '169', '209', '174', '189', '183',\n",
              "       '163', '219', '158', '175', '177', '200', '194', '142', '172',\n",
              "       '186', '188', '167'], dtype=object)"
            ]
          },
          "metadata": {},
          "execution_count": 13
        }
      ]
    },
    {
      "cell_type": "code",
      "source": [
        "df['Innings Date']"
      ],
      "metadata": {
        "colab": {
          "base_uri": "https://localhost:8080/"
        },
        "id": "AFDOuCEKe3vG",
        "outputId": "7f98e1c8-806a-4192-c639-523bdb17f8cc"
      },
      "execution_count": null,
      "outputs": [
        {
          "output_type": "execute_result",
          "data": {
            "text/plain": [
              "0         11-08-2019\n",
              "1         11-08-2019\n",
              "2         11-08-2019\n",
              "3         11-08-2019\n",
              "4         11-08-2019\n",
              "             ...    \n",
              "171937    05-01-1971\n",
              "171938    05-01-1971\n",
              "171939    05-01-1971\n",
              "171940    05-01-1971\n",
              "171941    05-01-1971\n",
              "Name: Innings Date, Length: 67595, dtype: object"
            ]
          },
          "metadata": {},
          "execution_count": 14
        }
      ]
    },
    {
      "cell_type": "code",
      "source": [
        "df.isnull().sum()"
      ],
      "metadata": {
        "colab": {
          "base_uri": "https://localhost:8080/"
        },
        "id": "xNnVyqO9aa6F",
        "outputId": "3c240228-d55a-471b-aa35-561f0c5608a0"
      },
      "execution_count": null,
      "outputs": [
        {
          "output_type": "execute_result",
          "data": {
            "text/plain": [
              "Innings Player                       0\n",
              "Innings Runs Scored                  0\n",
              "Innings Runs Scored Num              0\n",
              "Innings Minutes Batted               0\n",
              "Innings Batted Flag                  0\n",
              "Innings Not Out Flag                 0\n",
              "Innings Balls Faced                  0\n",
              "Innings Boundary Fours               0\n",
              "Innings Boundary Sixes               0\n",
              "Innings Batting Strike Rate          0\n",
              "Innings Number                       0\n",
              "Opposition                           0\n",
              "Ground                               0\n",
              "Innings Date                         0\n",
              "Country                              0\n",
              "50's                                 0\n",
              "100's                                0\n",
              "Innings Runs Scored Buckets          0\n",
              "Innings Overs Bowled             67595\n",
              "Innings Bowled Flag              67595\n",
              "Innings Maidens Bowled           67595\n",
              "Innings Runs Conceded            67595\n",
              "Innings Wickets Taken            67595\n",
              "4 Wickets                        67595\n",
              "5 Wickets                        67595\n",
              "10 Wickets                       67595\n",
              "Innings Wickets Taken Buckets    67595\n",
              "Innings Economy Rate             67595\n",
              "dtype: int64"
            ]
          },
          "metadata": {},
          "execution_count": 15
        }
      ]
    },
    {
      "cell_type": "markdown",
      "source": [
        "Hence no null values are there for runs"
      ],
      "metadata": {
        "id": "C1B928-OaQ1X"
      }
    },
    {
      "cell_type": "markdown",
      "source": [
        "Ignore these columns: Innings Overs Bowled             \n",
        "Innings Bowled Flag              \n",
        "Innings Maidens Bowled           \n",
        "Innings Runs Conceded            \n",
        "Innings Wickets Taken            \n",
        "4 Wickets                        \n",
        "5 Wickets                      \n",
        "10 Wickets                       \n",
        "Innings Wickets Taken Buckets    \n",
        "Innings Economy Rate"
      ],
      "metadata": {
        "id": "GmRjtqbwahbP"
      }
    },
    {
      "cell_type": "markdown",
      "source": [
        "Converting to standard date time format"
      ],
      "metadata": {
        "id": "Sum93xrcIJda"
      }
    },
    {
      "cell_type": "code",
      "source": [
        "df[\"Innings Date\"]=pd.to_datetime(df['Innings Date'])\n",
        "df['Innings Date']"
      ],
      "metadata": {
        "colab": {
          "base_uri": "https://localhost:8080/"
        },
        "id": "djsSDjIjfJqt",
        "outputId": "34f6c813-3b67-4a5f-bfa6-0899f960b3c5"
      },
      "execution_count": null,
      "outputs": [
        {
          "output_type": "execute_result",
          "data": {
            "text/plain": [
              "0        2019-11-08\n",
              "1        2019-11-08\n",
              "2        2019-11-08\n",
              "3        2019-11-08\n",
              "4        2019-11-08\n",
              "            ...    \n",
              "171937   1971-05-01\n",
              "171938   1971-05-01\n",
              "171939   1971-05-01\n",
              "171940   1971-05-01\n",
              "171941   1971-05-01\n",
              "Name: Innings Date, Length: 67595, dtype: datetime64[ns]"
            ]
          },
          "metadata": {},
          "execution_count": 36
        }
      ]
    },
    {
      "cell_type": "markdown",
      "source": [
        "Adding last column for year"
      ],
      "metadata": {
        "id": "bhLFkaimCFXT"
      }
    },
    {
      "cell_type": "code",
      "source": [
        "df[\"Year\"]=df['Innings Date'].dt.year\n",
        "df['Year']"
      ],
      "metadata": {
        "colab": {
          "base_uri": "https://localhost:8080/"
        },
        "id": "ZP5Gulv4aMmV",
        "outputId": "8ede7bd8-5cd7-4d69-fa56-fa2348bb51f1"
      },
      "execution_count": null,
      "outputs": [
        {
          "output_type": "execute_result",
          "data": {
            "text/plain": [
              "0         2019\n",
              "1         2019\n",
              "2         2019\n",
              "3         2019\n",
              "4         2019\n",
              "          ... \n",
              "171937    1971\n",
              "171938    1971\n",
              "171939    1971\n",
              "171940    1971\n",
              "171941    1971\n",
              "Name: Year, Length: 67595, dtype: int64"
            ]
          },
          "metadata": {},
          "execution_count": 38
        }
      ]
    },
    {
      "cell_type": "markdown",
      "source": [
        "Change datatype to integer"
      ],
      "metadata": {
        "id": "3fAtdqVbCLQj"
      }
    },
    {
      "cell_type": "code",
      "source": [
        "df['Innings Runs Scored Num']=df['Innings Runs Scored Num'].astype(int)\n",
        "df['Innings Balls Faced']=df['Innings Balls Faced'].astype(int)\n",
        "df['Innings Number']=df['Innings Number'].astype(int)"
      ],
      "metadata": {
        "id": "S-AT1KlSA5Ks"
      },
      "execution_count": null,
      "outputs": []
    },
    {
      "cell_type": "code",
      "source": [
        "Sachin 1989-2012\n",
        "\n",
        "Analysis\n",
        "\n",
        "Sachin 2002-2012\n"
      ],
      "metadata": {
        "colab": {
          "base_uri": "https://localhost:8080/",
          "height": 130
        },
        "id": "xninlu0Vfh3O",
        "outputId": "d6e3fedb-1334-4ef1-8d64-f8ad4d9ea888"
      },
      "execution_count": null,
      "outputs": [
        {
          "output_type": "error",
          "ename": "SyntaxError",
          "evalue": "ignored",
          "traceback": [
            "\u001b[0;36m  File \u001b[0;32m\"<ipython-input-20-7d21775e512e>\"\u001b[0;36m, line \u001b[0;32m1\u001b[0m\n\u001b[0;31m    Sachin 1989-2012\u001b[0m\n\u001b[0m              ^\u001b[0m\n\u001b[0;31mSyntaxError\u001b[0m\u001b[0;31m:\u001b[0m invalid syntax\n"
          ]
        }
      ]
    },
    {
      "cell_type": "markdown",
      "source": [
        "Splitting the dataframe"
      ],
      "metadata": {
        "id": "vEqsJl60hJ1c"
      }
    },
    {
      "cell_type": "code",
      "source": [
        "df_1 = df[(df.Year>2002) & (df.Year<2012)]"
      ],
      "metadata": {
        "id": "u2AeG5nxhHM-"
      },
      "execution_count": null,
      "outputs": []
    },
    {
      "cell_type": "markdown",
      "source": [
        "Creating dataframes for all three players"
      ],
      "metadata": {
        "id": "u3GWZxw3_d3r"
      }
    },
    {
      "cell_type": "code",
      "source": [
        "df_s = df_1[df_1['Innings Player']=='SR Tendulkar']"
      ],
      "metadata": {
        "id": "5MPxZhMA-7e0"
      },
      "execution_count": null,
      "outputs": []
    },
    {
      "cell_type": "markdown",
      "source": [
        "Sachin dataframe"
      ],
      "metadata": {
        "id": "ON33fet3Crox"
      }
    },
    {
      "cell_type": "code",
      "source": [
        "df_s"
      ],
      "metadata": {
        "colab": {
          "base_uri": "https://localhost:8080/",
          "height": 713
        },
        "id": "veqyJawXBsjO",
        "outputId": "7e1ac501-b634-4788-ce65-637f12ddc9b2"
      },
      "execution_count": null,
      "outputs": [
        {
          "output_type": "execute_result",
          "data": {
            "text/plain": [
              "      Innings Player Innings Runs Scored  Innings Runs Scored Num  \\\n",
              "41980   SR Tendulkar                  18                       18   \n",
              "42020   SR Tendulkar                  85                       85   \n",
              "42208   SR Tendulkar                  53                       53   \n",
              "42304   SR Tendulkar                   2                        2   \n",
              "42735   SR Tendulkar                 111                      111   \n",
              "...              ...                 ...                      ...   \n",
              "87917   SR Tendulkar                  36                       36   \n",
              "88049   SR Tendulkar                  52                       52   \n",
              "88541   SR Tendulkar                   1                        1   \n",
              "88649   SR Tendulkar                   1                        1   \n",
              "88762   SR Tendulkar                   0                        0   \n",
              "\n",
              "      Innings Minutes Batted  Innings Batted Flag  Innings Not Out Flag  \\\n",
              "41980                     21                  1.0                   0.0   \n",
              "42020                    160                  1.0                   0.0   \n",
              "42208                     93                  1.0                   0.0   \n",
              "42304                      4                  1.0                   0.0   \n",
              "42735                    184                  1.0                   0.0   \n",
              "...                      ...                  ...                   ...   \n",
              "87917                    127                  1.0                   0.0   \n",
              "88049                     91                  1.0                   0.0   \n",
              "88541                      7                  1.0                   0.0   \n",
              "88649                     21                  1.0                   0.0   \n",
              "88762                      9                  1.0                   0.0   \n",
              "\n",
              "       Innings Balls Faced Innings Boundary Fours Innings Boundary Sixes  \\\n",
              "41980                   14                      2                      0   \n",
              "42020                  115                     11                      0   \n",
              "42208                   68                      7                      0   \n",
              "42304                    4                      0                      0   \n",
              "42735                  101                      8                      3   \n",
              "...                    ...                    ...                    ...   \n",
              "87917                   59                      3                      0   \n",
              "88049                   72                      7                      0   \n",
              "88541                    6                      0                      0   \n",
              "88649                   13                      0                      0   \n",
              "88762                   10                      0                      0   \n",
              "\n",
              "      Innings Batting Strike Rate  ...  Innings Bowled Flag  \\\n",
              "41980                      128.57  ...                  NaN   \n",
              "42020                       73.91  ...                  NaN   \n",
              "42208                       77.94  ...                  NaN   \n",
              "42304                          50  ...                  NaN   \n",
              "42735                       109.9  ...                  NaN   \n",
              "...                           ...  ...                  ...   \n",
              "87917                       61.01  ...                  NaN   \n",
              "88049                       72.22  ...                  NaN   \n",
              "88541                       16.66  ...                  NaN   \n",
              "88649                        7.69  ...                  NaN   \n",
              "88762                           0  ...                  NaN   \n",
              "\n",
              "      Innings Maidens Bowled Innings Runs Conceded Innings Wickets Taken  \\\n",
              "41980                    NaN                   NaN                   NaN   \n",
              "42020                    NaN                   NaN                   NaN   \n",
              "42208                    NaN                   NaN                   NaN   \n",
              "42304                    NaN                   NaN                   NaN   \n",
              "42735                    NaN                   NaN                   NaN   \n",
              "...                      ...                   ...                   ...   \n",
              "87917                    NaN                   NaN                   NaN   \n",
              "88049                    NaN                   NaN                   NaN   \n",
              "88541                    NaN                   NaN                   NaN   \n",
              "88649                    NaN                   NaN                   NaN   \n",
              "88762                    NaN                   NaN                   NaN   \n",
              "\n",
              "      4 Wickets  5 Wickets  10 Wickets Innings Wickets Taken Buckets  \\\n",
              "41980       NaN        NaN         NaN                           NaN   \n",
              "42020       NaN        NaN         NaN                           NaN   \n",
              "42208       NaN        NaN         NaN                           NaN   \n",
              "42304       NaN        NaN         NaN                           NaN   \n",
              "42735       NaN        NaN         NaN                           NaN   \n",
              "...         ...        ...         ...                           ...   \n",
              "87917       NaN        NaN         NaN                           NaN   \n",
              "88049       NaN        NaN         NaN                           NaN   \n",
              "88541       NaN        NaN         NaN                           NaN   \n",
              "88649       NaN        NaN         NaN                           NaN   \n",
              "88762       NaN        NaN         NaN                           NaN   \n",
              "\n",
              "      Innings Economy Rate  Year  \n",
              "41980                  NaN  2011  \n",
              "42020                  NaN  2011  \n",
              "42208                  NaN  2011  \n",
              "42304                  NaN  2011  \n",
              "42735                  NaN  2011  \n",
              "...                    ...   ...  \n",
              "87917                  NaN  2003  \n",
              "88049                  NaN  2003  \n",
              "88541                  NaN  2003  \n",
              "88649                  NaN  2003  \n",
              "88762                  NaN  2003  \n",
              "\n",
              "[151 rows x 29 columns]"
            ],
            "text/html": [
              "\n",
              "  <div id=\"df-6a9eae34-63e3-454c-85ae-8ff12601fe73\">\n",
              "    <div class=\"colab-df-container\">\n",
              "      <div>\n",
              "<style scoped>\n",
              "    .dataframe tbody tr th:only-of-type {\n",
              "        vertical-align: middle;\n",
              "    }\n",
              "\n",
              "    .dataframe tbody tr th {\n",
              "        vertical-align: top;\n",
              "    }\n",
              "\n",
              "    .dataframe thead th {\n",
              "        text-align: right;\n",
              "    }\n",
              "</style>\n",
              "<table border=\"1\" class=\"dataframe\">\n",
              "  <thead>\n",
              "    <tr style=\"text-align: right;\">\n",
              "      <th></th>\n",
              "      <th>Innings Player</th>\n",
              "      <th>Innings Runs Scored</th>\n",
              "      <th>Innings Runs Scored Num</th>\n",
              "      <th>Innings Minutes Batted</th>\n",
              "      <th>Innings Batted Flag</th>\n",
              "      <th>Innings Not Out Flag</th>\n",
              "      <th>Innings Balls Faced</th>\n",
              "      <th>Innings Boundary Fours</th>\n",
              "      <th>Innings Boundary Sixes</th>\n",
              "      <th>Innings Batting Strike Rate</th>\n",
              "      <th>...</th>\n",
              "      <th>Innings Bowled Flag</th>\n",
              "      <th>Innings Maidens Bowled</th>\n",
              "      <th>Innings Runs Conceded</th>\n",
              "      <th>Innings Wickets Taken</th>\n",
              "      <th>4 Wickets</th>\n",
              "      <th>5 Wickets</th>\n",
              "      <th>10 Wickets</th>\n",
              "      <th>Innings Wickets Taken Buckets</th>\n",
              "      <th>Innings Economy Rate</th>\n",
              "      <th>Year</th>\n",
              "    </tr>\n",
              "  </thead>\n",
              "  <tbody>\n",
              "    <tr>\n",
              "      <th>41980</th>\n",
              "      <td>SR Tendulkar</td>\n",
              "      <td>18</td>\n",
              "      <td>18</td>\n",
              "      <td>21</td>\n",
              "      <td>1.0</td>\n",
              "      <td>0.0</td>\n",
              "      <td>14</td>\n",
              "      <td>2</td>\n",
              "      <td>0</td>\n",
              "      <td>128.57</td>\n",
              "      <td>...</td>\n",
              "      <td>NaN</td>\n",
              "      <td>NaN</td>\n",
              "      <td>NaN</td>\n",
              "      <td>NaN</td>\n",
              "      <td>NaN</td>\n",
              "      <td>NaN</td>\n",
              "      <td>NaN</td>\n",
              "      <td>NaN</td>\n",
              "      <td>NaN</td>\n",
              "      <td>2011</td>\n",
              "    </tr>\n",
              "    <tr>\n",
              "      <th>42020</th>\n",
              "      <td>SR Tendulkar</td>\n",
              "      <td>85</td>\n",
              "      <td>85</td>\n",
              "      <td>160</td>\n",
              "      <td>1.0</td>\n",
              "      <td>0.0</td>\n",
              "      <td>115</td>\n",
              "      <td>11</td>\n",
              "      <td>0</td>\n",
              "      <td>73.91</td>\n",
              "      <td>...</td>\n",
              "      <td>NaN</td>\n",
              "      <td>NaN</td>\n",
              "      <td>NaN</td>\n",
              "      <td>NaN</td>\n",
              "      <td>NaN</td>\n",
              "      <td>NaN</td>\n",
              "      <td>NaN</td>\n",
              "      <td>NaN</td>\n",
              "      <td>NaN</td>\n",
              "      <td>2011</td>\n",
              "    </tr>\n",
              "    <tr>\n",
              "      <th>42208</th>\n",
              "      <td>SR Tendulkar</td>\n",
              "      <td>53</td>\n",
              "      <td>53</td>\n",
              "      <td>93</td>\n",
              "      <td>1.0</td>\n",
              "      <td>0.0</td>\n",
              "      <td>68</td>\n",
              "      <td>7</td>\n",
              "      <td>0</td>\n",
              "      <td>77.94</td>\n",
              "      <td>...</td>\n",
              "      <td>NaN</td>\n",
              "      <td>NaN</td>\n",
              "      <td>NaN</td>\n",
              "      <td>NaN</td>\n",
              "      <td>NaN</td>\n",
              "      <td>NaN</td>\n",
              "      <td>NaN</td>\n",
              "      <td>NaN</td>\n",
              "      <td>NaN</td>\n",
              "      <td>2011</td>\n",
              "    </tr>\n",
              "    <tr>\n",
              "      <th>42304</th>\n",
              "      <td>SR Tendulkar</td>\n",
              "      <td>2</td>\n",
              "      <td>2</td>\n",
              "      <td>4</td>\n",
              "      <td>1.0</td>\n",
              "      <td>0.0</td>\n",
              "      <td>4</td>\n",
              "      <td>0</td>\n",
              "      <td>0</td>\n",
              "      <td>50</td>\n",
              "      <td>...</td>\n",
              "      <td>NaN</td>\n",
              "      <td>NaN</td>\n",
              "      <td>NaN</td>\n",
              "      <td>NaN</td>\n",
              "      <td>NaN</td>\n",
              "      <td>NaN</td>\n",
              "      <td>NaN</td>\n",
              "      <td>NaN</td>\n",
              "      <td>NaN</td>\n",
              "      <td>2011</td>\n",
              "    </tr>\n",
              "    <tr>\n",
              "      <th>42735</th>\n",
              "      <td>SR Tendulkar</td>\n",
              "      <td>111</td>\n",
              "      <td>111</td>\n",
              "      <td>184</td>\n",
              "      <td>1.0</td>\n",
              "      <td>0.0</td>\n",
              "      <td>101</td>\n",
              "      <td>8</td>\n",
              "      <td>3</td>\n",
              "      <td>109.9</td>\n",
              "      <td>...</td>\n",
              "      <td>NaN</td>\n",
              "      <td>NaN</td>\n",
              "      <td>NaN</td>\n",
              "      <td>NaN</td>\n",
              "      <td>NaN</td>\n",
              "      <td>NaN</td>\n",
              "      <td>NaN</td>\n",
              "      <td>NaN</td>\n",
              "      <td>NaN</td>\n",
              "      <td>2011</td>\n",
              "    </tr>\n",
              "    <tr>\n",
              "      <th>...</th>\n",
              "      <td>...</td>\n",
              "      <td>...</td>\n",
              "      <td>...</td>\n",
              "      <td>...</td>\n",
              "      <td>...</td>\n",
              "      <td>...</td>\n",
              "      <td>...</td>\n",
              "      <td>...</td>\n",
              "      <td>...</td>\n",
              "      <td>...</td>\n",
              "      <td>...</td>\n",
              "      <td>...</td>\n",
              "      <td>...</td>\n",
              "      <td>...</td>\n",
              "      <td>...</td>\n",
              "      <td>...</td>\n",
              "      <td>...</td>\n",
              "      <td>...</td>\n",
              "      <td>...</td>\n",
              "      <td>...</td>\n",
              "      <td>...</td>\n",
              "    </tr>\n",
              "    <tr>\n",
              "      <th>87917</th>\n",
              "      <td>SR Tendulkar</td>\n",
              "      <td>36</td>\n",
              "      <td>36</td>\n",
              "      <td>127</td>\n",
              "      <td>1.0</td>\n",
              "      <td>0.0</td>\n",
              "      <td>59</td>\n",
              "      <td>3</td>\n",
              "      <td>0</td>\n",
              "      <td>61.01</td>\n",
              "      <td>...</td>\n",
              "      <td>NaN</td>\n",
              "      <td>NaN</td>\n",
              "      <td>NaN</td>\n",
              "      <td>NaN</td>\n",
              "      <td>NaN</td>\n",
              "      <td>NaN</td>\n",
              "      <td>NaN</td>\n",
              "      <td>NaN</td>\n",
              "      <td>NaN</td>\n",
              "      <td>2003</td>\n",
              "    </tr>\n",
              "    <tr>\n",
              "      <th>88049</th>\n",
              "      <td>SR Tendulkar</td>\n",
              "      <td>52</td>\n",
              "      <td>52</td>\n",
              "      <td>91</td>\n",
              "      <td>1.0</td>\n",
              "      <td>0.0</td>\n",
              "      <td>72</td>\n",
              "      <td>7</td>\n",
              "      <td>0</td>\n",
              "      <td>72.22</td>\n",
              "      <td>...</td>\n",
              "      <td>NaN</td>\n",
              "      <td>NaN</td>\n",
              "      <td>NaN</td>\n",
              "      <td>NaN</td>\n",
              "      <td>NaN</td>\n",
              "      <td>NaN</td>\n",
              "      <td>NaN</td>\n",
              "      <td>NaN</td>\n",
              "      <td>NaN</td>\n",
              "      <td>2003</td>\n",
              "    </tr>\n",
              "    <tr>\n",
              "      <th>88541</th>\n",
              "      <td>SR Tendulkar</td>\n",
              "      <td>1</td>\n",
              "      <td>1</td>\n",
              "      <td>7</td>\n",
              "      <td>1.0</td>\n",
              "      <td>0.0</td>\n",
              "      <td>6</td>\n",
              "      <td>0</td>\n",
              "      <td>0</td>\n",
              "      <td>16.66</td>\n",
              "      <td>...</td>\n",
              "      <td>NaN</td>\n",
              "      <td>NaN</td>\n",
              "      <td>NaN</td>\n",
              "      <td>NaN</td>\n",
              "      <td>NaN</td>\n",
              "      <td>NaN</td>\n",
              "      <td>NaN</td>\n",
              "      <td>NaN</td>\n",
              "      <td>NaN</td>\n",
              "      <td>2003</td>\n",
              "    </tr>\n",
              "    <tr>\n",
              "      <th>88649</th>\n",
              "      <td>SR Tendulkar</td>\n",
              "      <td>1</td>\n",
              "      <td>1</td>\n",
              "      <td>21</td>\n",
              "      <td>1.0</td>\n",
              "      <td>0.0</td>\n",
              "      <td>13</td>\n",
              "      <td>0</td>\n",
              "      <td>0</td>\n",
              "      <td>7.69</td>\n",
              "      <td>...</td>\n",
              "      <td>NaN</td>\n",
              "      <td>NaN</td>\n",
              "      <td>NaN</td>\n",
              "      <td>NaN</td>\n",
              "      <td>NaN</td>\n",
              "      <td>NaN</td>\n",
              "      <td>NaN</td>\n",
              "      <td>NaN</td>\n",
              "      <td>NaN</td>\n",
              "      <td>2003</td>\n",
              "    </tr>\n",
              "    <tr>\n",
              "      <th>88762</th>\n",
              "      <td>SR Tendulkar</td>\n",
              "      <td>0</td>\n",
              "      <td>0</td>\n",
              "      <td>9</td>\n",
              "      <td>1.0</td>\n",
              "      <td>0.0</td>\n",
              "      <td>10</td>\n",
              "      <td>0</td>\n",
              "      <td>0</td>\n",
              "      <td>0</td>\n",
              "      <td>...</td>\n",
              "      <td>NaN</td>\n",
              "      <td>NaN</td>\n",
              "      <td>NaN</td>\n",
              "      <td>NaN</td>\n",
              "      <td>NaN</td>\n",
              "      <td>NaN</td>\n",
              "      <td>NaN</td>\n",
              "      <td>NaN</td>\n",
              "      <td>NaN</td>\n",
              "      <td>2003</td>\n",
              "    </tr>\n",
              "  </tbody>\n",
              "</table>\n",
              "<p>151 rows × 29 columns</p>\n",
              "</div>\n",
              "      <button class=\"colab-df-convert\" onclick=\"convertToInteractive('df-6a9eae34-63e3-454c-85ae-8ff12601fe73')\"\n",
              "              title=\"Convert this dataframe to an interactive table.\"\n",
              "              style=\"display:none;\">\n",
              "        \n",
              "  <svg xmlns=\"http://www.w3.org/2000/svg\" height=\"24px\"viewBox=\"0 0 24 24\"\n",
              "       width=\"24px\">\n",
              "    <path d=\"M0 0h24v24H0V0z\" fill=\"none\"/>\n",
              "    <path d=\"M18.56 5.44l.94 2.06.94-2.06 2.06-.94-2.06-.94-.94-2.06-.94 2.06-2.06.94zm-11 1L8.5 8.5l.94-2.06 2.06-.94-2.06-.94L8.5 2.5l-.94 2.06-2.06.94zm10 10l.94 2.06.94-2.06 2.06-.94-2.06-.94-.94-2.06-.94 2.06-2.06.94z\"/><path d=\"M17.41 7.96l-1.37-1.37c-.4-.4-.92-.59-1.43-.59-.52 0-1.04.2-1.43.59L10.3 9.45l-7.72 7.72c-.78.78-.78 2.05 0 2.83L4 21.41c.39.39.9.59 1.41.59.51 0 1.02-.2 1.41-.59l7.78-7.78 2.81-2.81c.8-.78.8-2.07 0-2.86zM5.41 20L4 18.59l7.72-7.72 1.47 1.35L5.41 20z\"/>\n",
              "  </svg>\n",
              "      </button>\n",
              "      \n",
              "  <style>\n",
              "    .colab-df-container {\n",
              "      display:flex;\n",
              "      flex-wrap:wrap;\n",
              "      gap: 12px;\n",
              "    }\n",
              "\n",
              "    .colab-df-convert {\n",
              "      background-color: #E8F0FE;\n",
              "      border: none;\n",
              "      border-radius: 50%;\n",
              "      cursor: pointer;\n",
              "      display: none;\n",
              "      fill: #1967D2;\n",
              "      height: 32px;\n",
              "      padding: 0 0 0 0;\n",
              "      width: 32px;\n",
              "    }\n",
              "\n",
              "    .colab-df-convert:hover {\n",
              "      background-color: #E2EBFA;\n",
              "      box-shadow: 0px 1px 2px rgba(60, 64, 67, 0.3), 0px 1px 3px 1px rgba(60, 64, 67, 0.15);\n",
              "      fill: #174EA6;\n",
              "    }\n",
              "\n",
              "    [theme=dark] .colab-df-convert {\n",
              "      background-color: #3B4455;\n",
              "      fill: #D2E3FC;\n",
              "    }\n",
              "\n",
              "    [theme=dark] .colab-df-convert:hover {\n",
              "      background-color: #434B5C;\n",
              "      box-shadow: 0px 1px 3px 1px rgba(0, 0, 0, 0.15);\n",
              "      filter: drop-shadow(0px 1px 2px rgba(0, 0, 0, 0.3));\n",
              "      fill: #FFFFFF;\n",
              "    }\n",
              "  </style>\n",
              "\n",
              "      <script>\n",
              "        const buttonEl =\n",
              "          document.querySelector('#df-6a9eae34-63e3-454c-85ae-8ff12601fe73 button.colab-df-convert');\n",
              "        buttonEl.style.display =\n",
              "          google.colab.kernel.accessAllowed ? 'block' : 'none';\n",
              "\n",
              "        async function convertToInteractive(key) {\n",
              "          const element = document.querySelector('#df-6a9eae34-63e3-454c-85ae-8ff12601fe73');\n",
              "          const dataTable =\n",
              "            await google.colab.kernel.invokeFunction('convertToInteractive',\n",
              "                                                     [key], {});\n",
              "          if (!dataTable) return;\n",
              "\n",
              "          const docLinkHtml = 'Like what you see? Visit the ' +\n",
              "            '<a target=\"_blank\" href=https://colab.research.google.com/notebooks/data_table.ipynb>data table notebook</a>'\n",
              "            + ' to learn more about interactive tables.';\n",
              "          element.innerHTML = '';\n",
              "          dataTable['output_type'] = 'display_data';\n",
              "          await google.colab.output.renderOutput(dataTable, element);\n",
              "          const docLink = document.createElement('div');\n",
              "          docLink.innerHTML = docLinkHtml;\n",
              "          element.appendChild(docLink);\n",
              "        }\n",
              "      </script>\n",
              "    </div>\n",
              "  </div>\n",
              "  "
            ]
          },
          "metadata": {},
          "execution_count": 23
        }
      ]
    },
    {
      "cell_type": "markdown",
      "source": [
        "Total runs"
      ],
      "metadata": {
        "id": "ePgHQlEDGB1o"
      }
    },
    {
      "cell_type": "code",
      "source": [
        "sum(df_s['Innings Runs Scored Num'])"
      ],
      "metadata": {
        "colab": {
          "base_uri": "https://localhost:8080/"
        },
        "outputId": "9eeff0c9-5da4-4169-abd2-103ff9762edc",
        "id": "dlFZid2uFwXE"
      },
      "execution_count": null,
      "outputs": [
        {
          "output_type": "execute_result",
          "data": {
            "text/plain": [
              "6567"
            ]
          },
          "metadata": {},
          "execution_count": 42
        }
      ]
    },
    {
      "cell_type": "markdown",
      "source": [
        "Runs scored per match"
      ],
      "metadata": {
        "id": "rPkbM9plCkKJ"
      }
    },
    {
      "cell_type": "code",
      "source": [
        "runs_per_match = sum(df_s['Innings Runs Scored Num'])/len(df_s['Innings Balls Faced'])\n",
        "runs_per_match"
      ],
      "metadata": {
        "id": "HTOcCt0-IXfn",
        "colab": {
          "base_uri": "https://localhost:8080/"
        },
        "outputId": "cf9cbc6c-f5b6-4654-ae25-be143666554d"
      },
      "execution_count": null,
      "outputs": [
        {
          "output_type": "execute_result",
          "data": {
            "text/plain": [
              "43.49006622516556"
            ]
          },
          "metadata": {},
          "execution_count": 45
        }
      ]
    },
    {
      "cell_type": "markdown",
      "source": [
        "Strike Rate"
      ],
      "metadata": {
        "id": "Ndq1zJTHCut1"
      }
    },
    {
      "cell_type": "code",
      "source": [
        "strike_rate = sum(df_s['Innings Runs Scored Num'])/sum(df_s['Innings Balls Faced'])\n",
        "strike_rate"
      ],
      "metadata": {
        "colab": {
          "base_uri": "https://localhost:8080/"
        },
        "id": "30G04IASCwgT",
        "outputId": "13f0b739-79d4-4337-fbb5-bfc9c3fda6dc"
      },
      "execution_count": null,
      "outputs": [
        {
          "output_type": "execute_result",
          "data": {
            "text/plain": [
              "0.859105180533752"
            ]
          },
          "metadata": {},
          "execution_count": 47
        }
      ]
    },
    {
      "cell_type": "markdown",
      "source": [
        "No. of fours"
      ],
      "metadata": {
        "id": "0vs1KI3dC-UT"
      }
    },
    {
      "cell_type": "code",
      "source": [
        "df_s['Innings Boundary Fours'].sum()"
      ],
      "metadata": {
        "colab": {
          "base_uri": "https://localhost:8080/",
          "height": 53
        },
        "id": "g75ZKgt2J55S",
        "outputId": "c9ba7775-a814-4601-bbd0-03abeb2531bd"
      },
      "execution_count": null,
      "outputs": [
        {
          "output_type": "execute_result",
          "data": {
            "text/plain": [
              "'21170864104202512134102196212110561672000627101000143216165141499761041613911512131210210910203800524517213001681050008310119001210193273610227101744101868512123109515371128181037000'"
            ],
            "application/vnd.google.colaboratory.intrinsic+json": {
              "type": "string"
            }
          },
          "metadata": {},
          "execution_count": 84
        }
      ]
    },
    {
      "cell_type": "code",
      "source": [
        "four_s = sum(df_s['Innings Boundary Fours'])\n",
        "four_s"
      ],
      "metadata": {
        "id": "DyS4oi3AJE85"
      },
      "execution_count": null,
      "outputs": []
    },
    {
      "cell_type": "markdown",
      "source": [
        "No. of sixes"
      ],
      "metadata": {
        "id": "8adHBzT3GDdF"
      }
    },
    {
      "cell_type": "code",
      "source": [
        "six_s = sum(df_s['Innings Boundary Sixes'])\n",
        "six_s"
      ],
      "metadata": {
        "id": "pOA1kogAJiFD"
      },
      "execution_count": null,
      "outputs": []
    },
    {
      "cell_type": "markdown",
      "source": [
        "No. of half and full centuries"
      ],
      "metadata": {
        "id": "zPlY6IPsGGES"
      }
    },
    {
      "cell_type": "code",
      "source": [
        "sum(df_s[\"50's\"]), sum(df_s[\"100's\"])"
      ],
      "metadata": {
        "colab": {
          "base_uri": "https://localhost:8080/"
        },
        "id": "1ACcSLiWij86",
        "outputId": "87792a73-b6a0-4684-e260-1576018e460c"
      },
      "execution_count": null,
      "outputs": [
        {
          "output_type": "execute_result",
          "data": {
            "text/plain": [
              "(39.0, 15.0)"
            ]
          },
          "metadata": {},
          "execution_count": 28
        }
      ]
    },
    {
      "cell_type": "markdown",
      "source": [
        "Comapring no. of 100s"
      ],
      "metadata": {
        "id": "3tJ94jAOHi59"
      }
    },
    {
      "cell_type": "code",
      "source": [
        "df_1.groupby([\"Innings Player\"])[\"100's\"].sum().sort_values(ascending=False).head(10)"
      ],
      "metadata": {
        "colab": {
          "base_uri": "https://localhost:8080/"
        },
        "id": "PhIAA7__lh1_",
        "outputId": "c6307118-240b-4214-f4d1-f1c4d56dc8d1"
      },
      "execution_count": null,
      "outputs": [
        {
          "output_type": "execute_result",
          "data": {
            "text/plain": [
              "Innings Player\n",
              "RT Ponting        19.0\n",
              "ST Jayasuriya     15.0\n",
              "SR Tendulkar      15.0\n",
              "CH Gayle          15.0\n",
              "Yuvraj Singh      13.0\n",
              "WU Tharanga       12.0\n",
              "V Sehwag          11.0\n",
              "KC Sangakkara     11.0\n",
              "AB de Villiers    11.0\n",
              "TM Dilshan        10.0\n",
              "Name: 100's, dtype: float64"
            ]
          },
          "metadata": {},
          "execution_count": 31
        }
      ]
    },
    {
      "cell_type": "code",
      "source": [
        "df_1.groupby([\"Innings Player\"])[\"100's\"].sum().sort_values(ascending=False).head(10).plot(kind=\"bar\") \n",
        "plt.show()"
      ],
      "metadata": {
        "colab": {
          "base_uri": "https://localhost:8080/",
          "height": 344
        },
        "id": "-3QlZXBoltXB",
        "outputId": "d657bc33-4ab4-4a99-abef-f9ff9b2bfd75"
      },
      "execution_count": null,
      "outputs": [
        {
          "output_type": "display_data",
          "data": {
            "text/plain": [
              "<Figure size 432x288 with 1 Axes>"
            ],
            "image/png": "[encoded data removed]"
          },
          "metadata": {
            "needs_background": "light"
          }
        }
      ]
    },
    {
      "cell_type": "markdown",
      "source": [
        "Comaparing the no. of 50's"
      ],
      "metadata": {
        "id": "UTeEN92WHpo6"
      }
    },
    {
      "cell_type": "code",
      "source": [
        "df_1.groupby([\"Innings Player\"])[\"50's\"].sum().sort_values(ascending=False).head(10)"
      ],
      "metadata": {
        "colab": {
          "base_uri": "https://localhost:8080/"
        },
        "id": "lmNZ-VYtGrby",
        "outputId": "108d83b3-d3ab-4f11-faec-758aff24967f"
      },
      "execution_count": null,
      "outputs": [
        {
          "output_type": "execute_result",
          "data": {
            "text/plain": [
              "Innings Player\n",
              "KC Sangakkara       56.0\n",
              "RT Ponting          52.0\n",
              "MJ Clarke           49.0\n",
              "DPMD Jayawardene    44.0\n",
              "MS Dhoni            43.0\n",
              "JH Kallis           42.0\n",
              "R Dravid            40.0\n",
              "Yuvraj Singh        40.0\n",
              "SR Tendulkar        39.0\n",
              "GC Smith            39.0\n",
              "Name: 50's, dtype: float64"
            ]
          },
          "metadata": {},
          "execution_count": 74
        }
      ]
    },
    {
      "cell_type": "code",
      "source": [
        "df_1.groupby([\"Innings Player\"])[\"50's\"].sum().sort_values(ascending=False).head(10).plot(kind=\"bar\") \n",
        "plt.show()"
      ],
      "metadata": {
        "colab": {
          "base_uri": "https://localhost:8080/",
          "height": 367
        },
        "id": "LmaWmtHOGrQk",
        "outputId": "b38d80f2-8d15-44a7-b51d-3c84d522405f"
      },
      "execution_count": null,
      "outputs": [
        {
          "output_type": "display_data",
          "data": {
            "text/plain": [
              "<Figure size 432x288 with 1 Axes>"
            ],
            "image/png": "[encoded data removed]"
          },
          "metadata": {
            "needs_background": "light"
          }
        }
      ]
    },
    {
      "cell_type": "markdown",
      "source": [
        "Comparing total no. of runs"
      ],
      "metadata": {
        "id": "BzmeK8S4Hu7R"
      }
    },
    {
      "cell_type": "code",
      "source": [
        "df_1.groupby([\"Innings Player\"])[\"Innings Runs Scored Num\"].sum().sort_values(ascending=False).head(10)"
      ],
      "metadata": {
        "colab": {
          "base_uri": "https://localhost:8080/"
        },
        "id": "GOdt3pivG1sx",
        "outputId": "4baced4b-b801-4ed4-8e29-e3a69e043f57"
      },
      "execution_count": null,
      "outputs": [
        {
          "output_type": "execute_result",
          "data": {
            "text/plain": [
              "Innings Player\n",
              "RT Ponting          8143\n",
              "KC Sangakkara       7997\n",
              "Yuvraj Singh        6802\n",
              "MJ Clarke           6622\n",
              "SR Tendulkar        6567\n",
              "DPMD Jayawardene    6343\n",
              "MS Dhoni            6323\n",
              "V Sehwag            6158\n",
              "CH Gayle            5882\n",
              "GC Smith            5617\n",
              "Name: Innings Runs Scored Num, dtype: int64"
            ]
          },
          "metadata": {},
          "execution_count": 75
        }
      ]
    },
    {
      "cell_type": "code",
      "source": [
        "df_1.groupby([\"Innings Player\"])[\"Innings Runs Scored Num\"].sum().sort_values(ascending=False).head(10).plot(kind = 'bar')\n",
        "plt.show()"
      ],
      "metadata": {
        "colab": {
          "base_uri": "https://localhost:8080/",
          "height": 367
        },
        "id": "eIxlECjpHCRK",
        "outputId": "0a2d74ea-cdf4-4373-bcee-fc2d4eae7652"
      },
      "execution_count": null,
      "outputs": [
        {
          "output_type": "display_data",
          "data": {
            "text/plain": [
              "<Figure size 432x288 with 1 Axes>"
            ],
            "image/png": "[encoded data removed]"
          },
          "metadata": {
            "needs_background": "light"
          }
        }
      ]
    },
    {
      "cell_type": "markdown",
      "source": [
        "Runs scored by Sachin over time"
      ],
      "metadata": {
        "id": "e3kIf2vYHU3R"
      }
    },
    {
      "cell_type": "code",
      "source": [
        "df_s.groupby([\"Year\"])[\"Innings Runs Scored Num\"].sum().plot(kind=\"bar\")\n",
        "plt.show()"
      ],
      "metadata": {
        "id": "-bEa36e2n4zX",
        "colab": {
          "base_uri": "https://localhost:8080/",
          "height": 295
        },
        "outputId": "6fa51aca-5372-40f1-db4e-6afd37c4d87f"
      },
      "execution_count": null,
      "outputs": [
        {
          "output_type": "display_data",
          "data": {
            "text/plain": [
              "<Figure size 432x288 with 1 Axes>"
            ],
            "image/png": "[encoded data removed]"
          },
          "metadata": {
            "needs_background": "light"
          }
        }
      ]
    },
    {
      "cell_type": "markdown",
      "source": [
        "CONCLUSION: SACHIN PERFORMANCE FROM 2002 - 2012\n",
        "\n",
        "1. Total runs:6567\n",
        "2. Runs per innings:43.49\n",
        "3. Strike rate: 0.85\n",
        "4. 100's: 15\n",
        "5. 50's: 39\n",
        "\n",
        "Also, Sachin scored the highest runs in 2007 followed by in 2003, 2009"
      ],
      "metadata": {
        "id": "fM8tJNAsIcER"
      }
    }
  ]
}